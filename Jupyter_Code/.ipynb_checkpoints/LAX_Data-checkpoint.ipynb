{
 "cells": [
  {
   "cell_type": "markdown",
   "metadata": {},
   "source": [
    "# LAX DATASET"
   ]
  },
  {
   "cell_type": "code",
   "execution_count": 1,
   "metadata": {},
   "outputs": [],
   "source": [
    "#Dependencies\n",
    "\n",
    "#import libraries\n",
    "import pandas as pd\n",
    "import seaborn as sns\n",
    "import matplotlib.pyplot as plt\n",
    "import numpy as np\n",
    "import calendar\n",
    "\n",
    "import matplotlib.style as style\n",
    "style.available\n",
    "style.use('fivethirtyeight')\n",
    "\n",
    "#ignore warnings\n",
    "import warnings\n",
    "warnings.filterwarnings(\"ignore\")\n",
    "\n"
   ]
  },
  {
   "cell_type": "code",
   "execution_count": 2,
   "metadata": {},
   "outputs": [
    {
     "ename": "FileNotFoundError",
     "evalue": "File b'airline_details_LAX.csv' does not exist",
     "output_type": "error",
     "traceback": [
      "\u001b[0;31m----------------------------------------------------------\u001b[0m",
      "\u001b[0;31mFileNotFoundError\u001b[0m        Traceback (most recent call last)",
      "\u001b[0;32m<ipython-input-2-468b461aaf8d>\u001b[0m in \u001b[0;36m<module>\u001b[0;34m()\u001b[0m\n\u001b[0;32m----> 1\u001b[0;31m \u001b[0mdata_lax\u001b[0m\u001b[0;34m=\u001b[0m\u001b[0mpd\u001b[0m\u001b[0;34m.\u001b[0m\u001b[0mread_csv\u001b[0m\u001b[0;34m(\u001b[0m\u001b[0;34m'airline_details_LAX.csv'\u001b[0m\u001b[0;34m)\u001b[0m\u001b[0;34m\u001b[0m\u001b[0m\n\u001b[0m\u001b[1;32m      2\u001b[0m \u001b[0mdata_lax\u001b[0m \u001b[0;34m=\u001b[0m \u001b[0mdata_lax\u001b[0m\u001b[0;34m.\u001b[0m\u001b[0mdropna\u001b[0m\u001b[0;34m(\u001b[0m\u001b[0mhow\u001b[0m\u001b[0;34m=\u001b[0m\u001b[0;34m'any'\u001b[0m\u001b[0;34m)\u001b[0m\u001b[0;34m\u001b[0m\u001b[0m\n\u001b[1;32m      3\u001b[0m data_lax = data_lax.rename(columns={ ' month':'month', ' weather_ct':'weather_ct', ' arr_delay':'arr_delay',\n\u001b[1;32m      4\u001b[0m                                    ' carrier_delay':'carrier_delay'})\n\u001b[1;32m      5\u001b[0m \u001b[0mdata_lax\u001b[0m\u001b[0;34m.\u001b[0m\u001b[0mcolumns\u001b[0m\u001b[0;34m\u001b[0m\u001b[0m\n",
      "\u001b[0;32m/anaconda3/lib/python3.6/site-packages/pandas/io/parsers.py\u001b[0m in \u001b[0;36mparser_f\u001b[0;34m(filepath_or_buffer, sep, delimiter, header, names, index_col, usecols, squeeze, prefix, mangle_dupe_cols, dtype, engine, converters, true_values, false_values, skipinitialspace, skiprows, nrows, na_values, keep_default_na, na_filter, verbose, skip_blank_lines, parse_dates, infer_datetime_format, keep_date_col, date_parser, dayfirst, iterator, chunksize, compression, thousands, decimal, lineterminator, quotechar, quoting, escapechar, comment, encoding, dialect, tupleize_cols, error_bad_lines, warn_bad_lines, skipfooter, skip_footer, doublequote, delim_whitespace, as_recarray, compact_ints, use_unsigned, low_memory, buffer_lines, memory_map, float_precision)\u001b[0m\n\u001b[1;32m    707\u001b[0m                     skip_blank_lines=skip_blank_lines)\n\u001b[1;32m    708\u001b[0m \u001b[0;34m\u001b[0m\u001b[0m\n\u001b[0;32m--> 709\u001b[0;31m         \u001b[0;32mreturn\u001b[0m \u001b[0m_read\u001b[0m\u001b[0;34m(\u001b[0m\u001b[0mfilepath_or_buffer\u001b[0m\u001b[0;34m,\u001b[0m \u001b[0mkwds\u001b[0m\u001b[0;34m)\u001b[0m\u001b[0;34m\u001b[0m\u001b[0m\n\u001b[0m\u001b[1;32m    710\u001b[0m \u001b[0;34m\u001b[0m\u001b[0m\n\u001b[1;32m    711\u001b[0m     \u001b[0mparser_f\u001b[0m\u001b[0;34m.\u001b[0m\u001b[0m__name__\u001b[0m \u001b[0;34m=\u001b[0m \u001b[0mname\u001b[0m\u001b[0;34m\u001b[0m\u001b[0m\n",
      "\u001b[0;32m/anaconda3/lib/python3.6/site-packages/pandas/io/parsers.py\u001b[0m in \u001b[0;36m_read\u001b[0;34m(filepath_or_buffer, kwds)\u001b[0m\n\u001b[1;32m    447\u001b[0m \u001b[0;34m\u001b[0m\u001b[0m\n\u001b[1;32m    448\u001b[0m     \u001b[0;31m# Create the parser.\u001b[0m\u001b[0;34m\u001b[0m\u001b[0;34m\u001b[0m\u001b[0m\n\u001b[0;32m--> 449\u001b[0;31m     \u001b[0mparser\u001b[0m \u001b[0;34m=\u001b[0m \u001b[0mTextFileReader\u001b[0m\u001b[0;34m(\u001b[0m\u001b[0mfilepath_or_buffer\u001b[0m\u001b[0;34m,\u001b[0m \u001b[0;34m**\u001b[0m\u001b[0mkwds\u001b[0m\u001b[0;34m)\u001b[0m\u001b[0;34m\u001b[0m\u001b[0m\n\u001b[0m\u001b[1;32m    450\u001b[0m \u001b[0;34m\u001b[0m\u001b[0m\n\u001b[1;32m    451\u001b[0m     \u001b[0;32mif\u001b[0m \u001b[0mchunksize\u001b[0m \u001b[0;32mor\u001b[0m \u001b[0miterator\u001b[0m\u001b[0;34m:\u001b[0m\u001b[0;34m\u001b[0m\u001b[0m\n",
      "\u001b[0;32m/anaconda3/lib/python3.6/site-packages/pandas/io/parsers.py\u001b[0m in \u001b[0;36m__init__\u001b[0;34m(self, f, engine, **kwds)\u001b[0m\n\u001b[1;32m    816\u001b[0m             \u001b[0mself\u001b[0m\u001b[0;34m.\u001b[0m\u001b[0moptions\u001b[0m\u001b[0;34m[\u001b[0m\u001b[0;34m'has_index_names'\u001b[0m\u001b[0;34m]\u001b[0m \u001b[0;34m=\u001b[0m \u001b[0mkwds\u001b[0m\u001b[0;34m[\u001b[0m\u001b[0;34m'has_index_names'\u001b[0m\u001b[0;34m]\u001b[0m\u001b[0;34m\u001b[0m\u001b[0m\n\u001b[1;32m    817\u001b[0m \u001b[0;34m\u001b[0m\u001b[0m\n\u001b[0;32m--> 818\u001b[0;31m         \u001b[0mself\u001b[0m\u001b[0;34m.\u001b[0m\u001b[0m_make_engine\u001b[0m\u001b[0;34m(\u001b[0m\u001b[0mself\u001b[0m\u001b[0;34m.\u001b[0m\u001b[0mengine\u001b[0m\u001b[0;34m)\u001b[0m\u001b[0;34m\u001b[0m\u001b[0m\n\u001b[0m\u001b[1;32m    819\u001b[0m \u001b[0;34m\u001b[0m\u001b[0m\n\u001b[1;32m    820\u001b[0m     \u001b[0;32mdef\u001b[0m \u001b[0mclose\u001b[0m\u001b[0;34m(\u001b[0m\u001b[0mself\u001b[0m\u001b[0;34m)\u001b[0m\u001b[0;34m:\u001b[0m\u001b[0;34m\u001b[0m\u001b[0m\n",
      "\u001b[0;32m/anaconda3/lib/python3.6/site-packages/pandas/io/parsers.py\u001b[0m in \u001b[0;36m_make_engine\u001b[0;34m(self, engine)\u001b[0m\n\u001b[1;32m   1047\u001b[0m     \u001b[0;32mdef\u001b[0m \u001b[0m_make_engine\u001b[0m\u001b[0;34m(\u001b[0m\u001b[0mself\u001b[0m\u001b[0;34m,\u001b[0m \u001b[0mengine\u001b[0m\u001b[0;34m=\u001b[0m\u001b[0;34m'c'\u001b[0m\u001b[0;34m)\u001b[0m\u001b[0;34m:\u001b[0m\u001b[0;34m\u001b[0m\u001b[0m\n\u001b[1;32m   1048\u001b[0m         \u001b[0;32mif\u001b[0m \u001b[0mengine\u001b[0m \u001b[0;34m==\u001b[0m \u001b[0;34m'c'\u001b[0m\u001b[0;34m:\u001b[0m\u001b[0;34m\u001b[0m\u001b[0m\n\u001b[0;32m-> 1049\u001b[0;31m             \u001b[0mself\u001b[0m\u001b[0;34m.\u001b[0m\u001b[0m_engine\u001b[0m \u001b[0;34m=\u001b[0m \u001b[0mCParserWrapper\u001b[0m\u001b[0;34m(\u001b[0m\u001b[0mself\u001b[0m\u001b[0;34m.\u001b[0m\u001b[0mf\u001b[0m\u001b[0;34m,\u001b[0m \u001b[0;34m**\u001b[0m\u001b[0mself\u001b[0m\u001b[0;34m.\u001b[0m\u001b[0moptions\u001b[0m\u001b[0;34m)\u001b[0m\u001b[0;34m\u001b[0m\u001b[0m\n\u001b[0m\u001b[1;32m   1050\u001b[0m         \u001b[0;32melse\u001b[0m\u001b[0;34m:\u001b[0m\u001b[0;34m\u001b[0m\u001b[0m\n\u001b[1;32m   1051\u001b[0m             \u001b[0;32mif\u001b[0m \u001b[0mengine\u001b[0m \u001b[0;34m==\u001b[0m \u001b[0;34m'python'\u001b[0m\u001b[0;34m:\u001b[0m\u001b[0;34m\u001b[0m\u001b[0m\n",
      "\u001b[0;32m/anaconda3/lib/python3.6/site-packages/pandas/io/parsers.py\u001b[0m in \u001b[0;36m__init__\u001b[0;34m(self, src, **kwds)\u001b[0m\n\u001b[1;32m   1693\u001b[0m         \u001b[0mkwds\u001b[0m\u001b[0;34m[\u001b[0m\u001b[0;34m'allow_leading_cols'\u001b[0m\u001b[0;34m]\u001b[0m \u001b[0;34m=\u001b[0m \u001b[0mself\u001b[0m\u001b[0;34m.\u001b[0m\u001b[0mindex_col\u001b[0m \u001b[0;32mis\u001b[0m \u001b[0;32mnot\u001b[0m \u001b[0;32mFalse\u001b[0m\u001b[0;34m\u001b[0m\u001b[0m\n\u001b[1;32m   1694\u001b[0m \u001b[0;34m\u001b[0m\u001b[0m\n\u001b[0;32m-> 1695\u001b[0;31m         \u001b[0mself\u001b[0m\u001b[0;34m.\u001b[0m\u001b[0m_reader\u001b[0m \u001b[0;34m=\u001b[0m \u001b[0mparsers\u001b[0m\u001b[0;34m.\u001b[0m\u001b[0mTextReader\u001b[0m\u001b[0;34m(\u001b[0m\u001b[0msrc\u001b[0m\u001b[0;34m,\u001b[0m \u001b[0;34m**\u001b[0m\u001b[0mkwds\u001b[0m\u001b[0;34m)\u001b[0m\u001b[0;34m\u001b[0m\u001b[0m\n\u001b[0m\u001b[1;32m   1696\u001b[0m \u001b[0;34m\u001b[0m\u001b[0m\n\u001b[1;32m   1697\u001b[0m         \u001b[0;31m# XXX\u001b[0m\u001b[0;34m\u001b[0m\u001b[0;34m\u001b[0m\u001b[0m\n",
      "\u001b[0;32mpandas/_libs/parsers.pyx\u001b[0m in \u001b[0;36mpandas._libs.parsers.TextReader.__cinit__\u001b[0;34m()\u001b[0m\n",
      "\u001b[0;32mpandas/_libs/parsers.pyx\u001b[0m in \u001b[0;36mpandas._libs.parsers.TextReader._setup_parser_source\u001b[0;34m()\u001b[0m\n",
      "\u001b[0;31mFileNotFoundError\u001b[0m: File b'airline_details_LAX.csv' does not exist"
     ]
    }
   ],
   "source": [
    "data_lax=pd.read_csv('airline_details_LAX.csv')\n",
    "data_lax = data_lax.dropna(how='any')\n",
    "data_lax = data_lax.rename(columns={ ' month':'month', ' weather_ct':'weather_ct', ' arr_delay':'arr_delay',\n",
    "                                   ' carrier_delay':'carrier_delay'})\n",
    "data_lax.columns"
   ]
  },
  {
   "cell_type": "code",
   "execution_count": null,
   "metadata": {},
   "outputs": [],
   "source": [
    "data_lax = data_lax[['year','month', 'carrier', 'carrier_name', 'airport', 'airport_name', 'arr_flights', 'arr_del15', 'carrier_ct', 'weather_ct', 'nas_ct', 'security_ct', 'late_aircraft_ct', 'arr_cancelled', 'arr_diverted']]\n",
    "\n"
   ]
  },
  {
   "cell_type": "code",
   "execution_count": null,
   "metadata": {},
   "outputs": [],
   "source": [
    "data_lax = data_lax[data_lax['year'] != 2019] # data from 2010 to 2018 \n",
    "data_lax.head()"
   ]
  },
  {
   "cell_type": "code",
   "execution_count": null,
   "metadata": {},
   "outputs": [],
   "source": [
    "data_lax.describe()"
   ]
  },
  {
   "cell_type": "code",
   "execution_count": null,
   "metadata": {},
   "outputs": [],
   "source": [
    "data_lax.info()"
   ]
  },
  {
   "cell_type": "markdown",
   "metadata": {},
   "source": [
    "### Flight Delays"
   ]
  },
  {
   "cell_type": "code",
   "execution_count": null,
   "metadata": {},
   "outputs": [],
   "source": [
    "# flight delays:\n",
    "total_delays = data_lax['arr_del15'].sum()\n",
    "total_carrier_delays = data_lax['carrier_ct'].sum()\n",
    "total_weather_delays = data_lax['weather_ct'].sum()\n",
    "total_nas_delays = data_lax['nas_ct'].sum()\n",
    "total_security_delays = data_lax['security_ct'].sum()\n",
    "total_late_aircraft_delays = data_lax['late_aircraft_ct'].sum()\n"
   ]
  },
  {
   "cell_type": "code",
   "execution_count": null,
   "metadata": {},
   "outputs": [],
   "source": [
    "delay_df = pd.DataFrame([{'Total Delays':total_delays, \"Faulty Carrier\":total_carrier_delays, \"Poor Weather\":total_weather_delays,\n",
    "                         \"NAS\":total_nas_delays, \"Security Issues\":total_security_delays,\n",
    "                         \"Late Arrivals\":total_late_aircraft_delays}])"
   ]
  },
  {
   "cell_type": "code",
   "execution_count": null,
   "metadata": {},
   "outputs": [],
   "source": [
    "delay_df"
   ]
  },
  {
   "cell_type": "code",
   "execution_count": null,
   "metadata": {},
   "outputs": [],
   "source": [
    "# Label the characteristics for the pie chart.\n",
    "labels = [\"Faulty Carrier\", \"Poor Weather\", \"NAS\", \"Security Issues\", \"Late Arrivals\"]\n",
    "sizes = [total_carrier_delays, total_weather_delays, total_nas_delays, total_security_delays, total_late_aircraft_delays]\n",
    "colors = ['gold', 'yellowgreen', 'lightcoral', 'blue', 'lightskyblue']\n",
    "explode = (0.1, 0, 0, 0, 0)\n",
    "\n",
    "# Create pie chart.\n",
    "plt.pie(sizes, explode=explode, labels=labels, colors=colors,\n",
    "        autopct=\"%1.1f%%\", shadow=True, startangle=140)\n",
    "plt.axis('equal')"
   ]
  },
  {
   "cell_type": "markdown",
   "metadata": {},
   "source": [
    "### Flights over the years:"
   ]
  },
  {
   "cell_type": "code",
   "execution_count": null,
   "metadata": {},
   "outputs": [],
   "source": [
    "# Function to group by, select required columns and compute total number of flights\n",
    "\n",
    "def aggr_group_df(df, group, aggr_field, fields):\n",
    "    new_df = pd.DataFrame(df.groupby(by=group)[fields].sum())\n",
    "    new_df[aggr_field] = new_df.apply(lambda row: sum(row[fields]), axis = 1)\n",
    "    return new_df\n"
   ]
  },
  {
   "cell_type": "code",
   "execution_count": null,
   "metadata": {},
   "outputs": [],
   "source": [
    "FLIGHTS_AGGR_FIELDS = ['arr_flights', 'arr_del15', 'arr_cancelled', 'arr_diverted']\n",
    "TOTAL_FLIGHTS_FIELD = 'total_flights'"
   ]
  },
  {
   "cell_type": "code",
   "execution_count": null,
   "metadata": {},
   "outputs": [],
   "source": [
    "# call function to group by year:\n",
    "\n",
    "data_grouped_yr = aggr_group_df(data_lax, ['year'], TOTAL_FLIGHTS_FIELD, FLIGHTS_AGGR_FIELDS)\n",
    "data_grouped_yr"
   ]
  },
  {
   "cell_type": "code",
   "execution_count": null,
   "metadata": {},
   "outputs": [],
   "source": [
    "# Plot the graph\n",
    "\n",
    "x_axis = data_grouped_yr.index.values\n",
    "data_grouped_yr.plot.bar(x_axis, 'total_flights')\n",
    "\n",
    "plt.title('Total Number Of Flights (2010-2018)')\n",
    "plt.xlabel('Year')\n",
    "plt.ylabel('total number')\n",
    "\n",
    "plt.savefig(\"Images/Total Number Of Flights(2010-2018).png\")\n",
    "plt.show()"
   ]
  },
  {
   "cell_type": "markdown",
   "metadata": {},
   "source": [
    "### Total flights over months"
   ]
  },
  {
   "cell_type": "code",
   "execution_count": null,
   "metadata": {},
   "outputs": [],
   "source": [
    "# function to convert 'month' to month-names\n",
    "\n",
    "def to_month_name (month_idx):\n",
    "    month_name = calendar.month_abbr[month_idx]\n",
    "    return month_name\n"
   ]
  },
  {
   "cell_type": "code",
   "execution_count": null,
   "metadata": {},
   "outputs": [],
   "source": [
    "data_lax['month_name'] = data_lax['month'].apply(to_month_name)\n",
    "data_lax"
   ]
  },
  {
   "cell_type": "code",
   "execution_count": null,
   "metadata": {},
   "outputs": [],
   "source": [
    "# call function to group by month:\n",
    "data_grouped_mnth = aggr_group_df(data_lax, ['month_name'], TOTAL_FLIGHTS_FIELD, FLIGHTS_AGGR_FIELDS)\n",
    "\n",
    "data_grouped_mnth.index = ['Jan','Feb','Mar', 'Apr', 'May', 'Jun', 'Jul', 'Aug', 'Sep', 'Oct', 'Nov', 'Dec']\n",
    "data_grouped_mnth"
   ]
  },
  {
   "cell_type": "code",
   "execution_count": null,
   "metadata": {},
   "outputs": [],
   "source": [
    "# plot\n",
    "\n",
    "x_axis = data_grouped_mnth.index.values\n",
    "data_grouped_mnth.plot.bar(x_axis, 'total_flights')\n",
    "\n",
    "plt.title('Total Number Of Flights Over Months')\n",
    "plt.xlabel('Month')\n",
    "plt.ylabel('total number')\n",
    "\n",
    "plt.savefig(\"Images/Total Number Of Flights Over Months.png\")\n",
    "plt.show()"
   ]
  },
  {
   "cell_type": "markdown",
   "metadata": {},
   "source": [
    "### Total number of flights over the years"
   ]
  },
  {
   "cell_type": "code",
   "execution_count": null,
   "metadata": {},
   "outputs": [],
   "source": [
    "# call function to group by year and carrier_name\n",
    "\n",
    "carrier_over_years = aggr_group_df(data_lax, [ 'year', 'carrier_name'], TOTAL_FLIGHTS_FIELD, FLIGHTS_AGGR_FIELDS)\n",
    "carrier_over_years.head(20)"
   ]
  },
  {
   "cell_type": "code",
   "execution_count": null,
   "metadata": {},
   "outputs": [],
   "source": [
    "#compute total number of flights per airline over the years\n",
    "\n",
    "airlines_df = carrier_over_years.pivot_table(index='carrier_name', columns='year')['total_flights']\n",
    "airlines_df = airlines_df.dropna(how='any')\n",
    "airlines_df"
   ]
  },
  {
   "cell_type": "code",
   "execution_count": null,
   "metadata": {},
   "outputs": [],
   "source": [
    "# plot\n",
    "\n",
    "fig, ax = plt.subplots(figsize=(20, 10))\n",
    "x_axis = [year for year in airlines_df]\n",
    "\n",
    "num_of_plots = len(airlines_df.index)\n",
    "colormap = plt.cm.tab10\n",
    "ax.set_color_cycle([colormap(i) for i in np.linspace(0,1,num_of_plots)])\n",
    "\n",
    "for index in airlines_df.index.values:\n",
    "    airlines_df.loc[index,:].plot(kind='line', marker=\"8\", linestyle='-')\n",
    "\n",
    "plt.title('Total Flights Per Carrier (2010-2018)')\n",
    "plt.xlabel('Year')\n",
    "plt.ylabel('total number')\n",
    "\n",
    "plt.legend(loc='best')\n",
    "plt.savefig(\"Images/Total Number Of Flights Per Carrier.png\")\n",
    "plt.show()"
   ]
  },
  {
   "cell_type": "markdown",
   "metadata": {},
   "source": [
    "## Flights on time"
   ]
  },
  {
   "cell_type": "code",
   "execution_count": null,
   "metadata": {},
   "outputs": [],
   "source": [
    "# airlines  - perecentage of flights on times \n",
    "\n",
    "ontime_arr_pct = pd.DataFrame((carrier_over_years['arr_flights'] / carrier_over_years['total_flights']) * 100)\n",
    "\n",
    "ontime_arr_pct = ontime_arr_pct.pivot_table(index='carrier_name', columns='year')\n",
    "\n",
    "ontime_arr_pct = ontime_arr_pct.dropna(how='any')[0]\n",
    "ontime_arr_pct"
   ]
  },
  {
   "cell_type": "code",
   "execution_count": null,
   "metadata": {},
   "outputs": [],
   "source": [
    "# plot\n",
    "\n",
    "fig, ax = plt.subplots(figsize=(20, 10))\n",
    "x_axis = [year for year in ontime_arr_pct]\n",
    "\n",
    "num_of_plots = len(airlines_df.index)\n",
    "colormap = plt.cm.tab10\n",
    "ax.set_color_cycle([colormap(i) for i in np.linspace(0,1,num_of_plots)])\n",
    "\n",
    "for airline in ontime_arr_pct.index.values:\n",
    "    ontime_arr_pct.loc[airline,:].plot(kind='line', marker=\"8\", linestyle='-')\n",
    "    \n",
    "plt.title('On-Time Arrival Percentage (2010-2018)')\n",
    "plt.xlabel('Year')\n",
    "plt.ylabel('Percentage(%)')\n",
    "\n",
    "plt.legend(loc='best')\n",
    "plt.savefig(\"On-time Arrival Percentage (2010-2018.png\")\n",
    "plt.show()\n"
   ]
  },
  {
   "cell_type": "markdown",
   "metadata": {},
   "source": [
    "## Delay Analysis"
   ]
  },
  {
   "cell_type": "code",
   "execution_count": null,
   "metadata": {},
   "outputs": [],
   "source": [
    "delay_data = data_lax[['year','month','carrier','carrier_name','airport','airport_name','arr_flights','arr_del15','carrier_ct','weather_ct','nas_ct','security_ct','late_aircraft_ct','arr_cancelled','arr_diverted']]\n",
    "\n",
    "delay_data.head()"
   ]
  },
  {
   "cell_type": "code",
   "execution_count": null,
   "metadata": {},
   "outputs": [],
   "source": [
    "# groupdata by year:\n",
    "delay_data = delay_data.groupby('year')[['arr_del15', 'carrier_ct', 'weather_ct', 'nas_ct', 'security_ct', 'late_aircraft_ct']].sum()\n",
    "delay_data"
   ]
  },
  {
   "cell_type": "code",
   "execution_count": null,
   "metadata": {},
   "outputs": [],
   "source": [
    "# function to find delay-percentage\n",
    "\n",
    "def find_percentage(flight_delays, total_flight_delays):\n",
    "        pct = (flight_delays / total_flight_delays) * 100\n",
    "        return pct\n",
    "   \n",
    "        "
   ]
  },
  {
   "cell_type": "code",
   "execution_count": null,
   "metadata": {},
   "outputs": [],
   "source": [
    "# call function to find the various delay percentages\n",
    "\n",
    "delay_data['carrier_ct%'] = delay_data.apply(lambda row: find_percentage(row['carrier_ct'], row['arr_del15']),axis=1)\n",
    "\n",
    "delay_data['weather_ct%'] = delay_data.apply(lambda row: find_percentage(row['weather_ct'], row['arr_del15']),axis=1)\n",
    "\n",
    "delay_data['nas_ct%'] = delay_data.apply(lambda row: find_percentage(row['nas_ct'], row['arr_del15']),axis=1)\n",
    "\n",
    "delay_data['security_ct%'] = delay_data.apply(lambda row: find_percentage(row['security_ct'], row['arr_del15']),axis=1)\n",
    "\n",
    "delay_data['late_aircraft_ct%'] = delay_data.apply(lambda row: find_percentage(row['late_aircraft_ct'], row['arr_del15']),axis=1)\n",
    "\n",
    "        \n",
    "delay_data\n"
   ]
  },
  {
   "cell_type": "code",
   "execution_count": null,
   "metadata": {},
   "outputs": [],
   "source": [
    "# plot\n",
    "\n",
    "fig, ax = plt.subplots(figsize=(20, 10))\n",
    "x_axis = [year for year in delay_data.index.values]\n",
    "\n",
    "num_of_plots = len(delay_data.index)\n",
    "colormap = plt.cm.Set1\n",
    "ax.set_color_cycle([colormap(i) for i in np.linspace(0,1,num_of_plots)])\n",
    "\n",
    "ax1 = delay_data['carrier_ct%'].plot(marker='o', linestyle='-', label='carrier_delay')\n",
    "ax2 = delay_data['weather_ct%'].plot(marker='o', linestyle='-',label='weather_delay')\n",
    "ax3 = delay_data['nas_ct%'].plot(marker='o', linestyle='-',label='nas_delay')\n",
    "ax4 = delay_data['security_ct%'].plot(marker='*', linestyle='-',label='security_delay')\n",
    "ax5 = delay_data['late_aircraft_ct%'].plot(marker='x', linestyle='-',label='late_aircraft_delay', alpha=0.5)\n",
    "\n",
    "plt.title('Causes Of Delays Over The Years')\n",
    "plt.xlabel('Year')\n",
    "plt.ylabel('Percentage(%)')\n",
    "plt.legend()\n",
    "\n",
    "plt.savefig(\"Images/Causes Of Delays Over The Years.png\")\n",
    "plt.show()"
   ]
  },
  {
   "cell_type": "code",
   "execution_count": null,
   "metadata": {},
   "outputs": [],
   "source": [
    "# ontime arrival vs delays\n",
    "\n",
    "data_grouped_yr\n"
   ]
  },
  {
   "cell_type": "code",
   "execution_count": null,
   "metadata": {},
   "outputs": [],
   "source": [
    "#plot\n",
    "\n",
    "data_grouped_yr['arr_flights'].plot()\n",
    "data_grouped_yr['arr_del15'].plot()\n",
    "\n",
    "plt.title('Ontime Arrival vs Delays')\n",
    "plt.xlabel('Year')\n",
    "plt.ylabel('Count')\n",
    "plt.legend()\n",
    "\n",
    "plt.savefig(\"Images/Ontime Arrival vs Delays.png\")\n",
    "plt.show()"
   ]
  },
  {
   "cell_type": "code",
   "execution_count": null,
   "metadata": {},
   "outputs": [],
   "source": [
    "p1 = data_grouped_yr['arr_del15']"
   ]
  },
  {
   "cell_type": "code",
   "execution_count": null,
   "metadata": {},
   "outputs": [],
   "source": [
    "data_atl = pd.read_csv('airline_details_ATL.csv')\n",
    "data_atl = data_atl.rename(columns={ ' month':'month', ' weather_ct':'weather_ct', ' arr_delay':'arr_delay',\n",
    "                                 ' carrier_delay':'carrier_delay'})\n",
    "data_atl.head()"
   ]
  },
  {
   "cell_type": "code",
   "execution_count": null,
   "metadata": {},
   "outputs": [],
   "source": [
    "data_atl = data_atl[['year','month', 'carrier', 'carrier_name', 'airport', 'airport_name', 'arr_flights', 'arr_del15', 'carrier_ct', 'weather_ct', 'nas_ct', 'security_ct', 'late_aircraft_ct', 'arr_cancelled', 'arr_diverted']]\n",
    "data_atl.head()\n"
   ]
  },
  {
   "cell_type": "code",
   "execution_count": null,
   "metadata": {},
   "outputs": [],
   "source": [
    "data_atl = data_atl[data_atl['year'] != 2019] # data from 2010 to 2018 \n",
    "data_atl.head()"
   ]
  },
  {
   "cell_type": "code",
   "execution_count": null,
   "metadata": {},
   "outputs": [],
   "source": [
    "data_grouped_yr_atl = aggr_group_df(data_atl, ['year'], TOTAL_FLIGHTS_FIELD, FLIGHTS_AGGR_FIELDS)\n",
    "p2 = data_grouped_yr_atl.rename(columns={'arr_del15':'arr_del_atl'})\n",
    "p2 = p2['arr_del_atl']\n",
    "p2 "
   ]
  },
  {
   "cell_type": "code",
   "execution_count": null,
   "metadata": {},
   "outputs": [],
   "source": [
    "p1"
   ]
  },
  {
   "cell_type": "code",
   "execution_count": null,
   "metadata": {},
   "outputs": [],
   "source": [
    "p2"
   ]
  },
  {
   "cell_type": "code",
   "execution_count": null,
   "metadata": {},
   "outputs": [],
   "source": [
    "p = []\n",
    "p1 = list(p1)\n",
    "p.append(p1)\n",
    "\n",
    "p2 = list(p2)\n",
    "p.append(p2)\n",
    "\n",
    "x = [2010, 2011, 2012, 2013, 2014, 2015, 2016, 2017, 2018]"
   ]
  },
  {
   "cell_type": "code",
   "execution_count": null,
   "metadata": {},
   "outputs": [],
   "source": [
    "# pd.concat([s1, s2], ignore_index=True)\n",
    "df = pd.DataFrame([p1, p2])\n",
    "\n",
    "import numpy as np\n",
    "import matplotlib.pyplot as plt\n",
    "import seaborn as sns\n",
    " \n",
    "# Data\n",
    "# x=range(1,6)\n",
    "# y=[ [1,4,6,8,9], [2,2,7,10,12], [2,8,5,10,6] ]\n",
    " \n",
    "# Plot\n",
    "pal = sns.color_palette(\"Set1\")\n",
    "\n",
    "plt.stackplot(x,p, labels=['A','B'], colors=pal)\n",
    "plt.legend(loc='upper left')\n",
    "plt.show()\n"
   ]
  },
  {
   "cell_type": "code",
   "execution_count": null,
   "metadata": {},
   "outputs": [],
   "source": [
    "for x in df.columns:\n",
    "    print(x)\n",
    "    "
   ]
  },
  {
   "cell_type": "code",
   "execution_count": null,
   "metadata": {
    "scrolled": true
   },
   "outputs": [],
   "source": []
  },
  {
   "cell_type": "code",
   "execution_count": null,
   "metadata": {
    "scrolled": true
   },
   "outputs": [],
   "source": [
    "df"
   ]
  },
  {
   "cell_type": "code",
   "execution_count": null,
   "metadata": {},
   "outputs": [],
   "source": [
    "for x in df.columns:\n",
    "    print(x)\n",
    "    \n",
    "df.index.values"
   ]
  },
  {
   "cell_type": "code",
   "execution_count": null,
   "metadata": {},
   "outputs": [],
   "source": [
    "#Creating FacetGrid and mapping kde onto it\n",
    "I1 = sns.FacetGrid(df, aspect=4)\n",
    "I1.map(sns.kdeplot, 'year', shade=True)\n",
    "\n",
    "#creating x range for the plot - minimum and maximum\n",
    "oldest = [year for year in df.columns]\n",
    "#I1.set(xlim=(0,4))\n",
    "\n",
    "#adding legend to the graph\n",
    "I1.add_legend()"
   ]
  },
  {
   "cell_type": "code",
   "execution_count": null,
   "metadata": {},
   "outputs": [],
   "source": [
    "# Repetitive codes\n",
    "\n",
    "# 1. group by year\n",
    "data_grouped_yr = data_atl.groupby(by='year')\n",
    "data_grouped_yr = pd.DataFrame(data_grouped_yr[['arr_flights', 'arr_del15', 'arr_cancelled', 'arr_diverted']].sum())\n",
    "data_grouped_yr['total_flights'] = data_grouped_yr['arr_flights'] + data_grouped_yr['arr_del15'] + data_grouped_yr['arr_cancelled']+ data_grouped_yr['arr_diverted']\n",
    "\n",
    "# 2. group by month\n",
    "data_grouped_month = data_atl.groupby(by='month')\n",
    "data_grouped_month = pd.DataFrame(data_grouped_month[['arr_flights', 'arr_del15', 'arr_cancelled', 'arr_diverted']].sum())\n",
    "data_grouped_month['total_flights'] = data_grouped_month['arr_flights'] + data_grouped_month['arr_del15'] + data_grouped_month['arr_cancelled'] + data_grouped_month['arr_diverted']\n",
    "\n",
    "# 3. data_grouped_month = data_atl.groupby(by='month')\n",
    "carrier_over_years = data_atl.groupby(by=['year', 'carrier_name'])\n",
    "carrier_over_years = pd.DataFrame(carrier_over_years[['arr_flights', 'arr_del15', 'arr_cancelled', 'arr_diverted']].sum())\n",
    "carrier_over_years['total_flights'] = carrier_over_years['arr_flights'] + carrier_over_years['arr_del15'] + carrier_over_years['arr_cancelled'] + carrier_over_years['arr_diverted']\n",
    "\n"
   ]
  },
  {
   "cell_type": "code",
   "execution_count": null,
   "metadata": {},
   "outputs": [],
   "source": [
    "# function:\n",
    "\n",
    "def aggr_group_df(df, group, aggr_field, fields):\n",
    "    new_df = pd.DataFrame(df.groupby(by=group)[fields].sum())\n",
    "    new_df[aggr_field] = new_df.apply(lambda row: sum(row[fields]), axis = 1)\n",
    "    return new_df\n",
    "FLIGHTS_AGGR_FIELDS = ['arr_flights', 'arr_del15', 'arr_cancelled', 'arr_diverted']\n",
    "TOTAL_FLIGHTS_FIELD = 'total_flights'\n",
    "\n",
    "# function calls:\n",
    "\n",
    "data_grouped_yr = aggr_group_df(data_atl, ['year'], TOTAL_FLIGHTS_FIELD, FLIGHTS_AGGR_FIELDS)\n",
    "\n",
    "data_grouped_mnth = aggr_group_df(data_atl, ['month_name'], TOTAL_FLIGHTS_FIELD, FLIGHTS_AGGR_FIELDS)\n",
    "\n",
    "carrier_over_years = aggr_group_df(data_atl, [ 'year', 'carrier_name'], TOTAL_FLIGHTS_FIELD, FLIGHTS_AGGR_FIELDS)\n",
    "\n",
    "lax_delays = aggr_group_df(data_lax, ['year'], TOTAL_FLIGHTS_FIELD, FLIGHTS_AGGR_FIELDS)['arr_del15']\n",
    "\n",
    "jfk_delays = aggr_group_df(data_jfk, ['year'], TOTAL_FLIGHTS_FIELD, FLIGHTS_AGGR_FIELDS)['arr_del15']\n",
    "\n",
    "chicago_delays = aggr_group_df(data_chicago, ['year'], TOTAL_FLIGHTS_FIELD, FLIGHTS_AGGR_FIELDS)['arr_del15']\n"
   ]
  }
 ],
 "metadata": {
  "kernelspec": {
   "display_name": "Python 3",
   "language": "python",
   "name": "python3"
  },
  "language_info": {
   "codemirror_mode": {
    "name": "ipython",
    "version": 3
   },
   "file_extension": ".py",
   "mimetype": "text/x-python",
   "name": "python",
   "nbconvert_exporter": "python",
   "pygments_lexer": "ipython3",
   "version": "3.6.4"
  }
 },
 "nbformat": 4,
 "nbformat_minor": 2
}
